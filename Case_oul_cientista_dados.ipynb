{
 "cells": [
  {
   "cell_type": "markdown",
   "id": "579949ca",
   "metadata": {},
   "source": [
    "# Data Science - avaliação\n"
   ]
  },
  {
   "cell_type": "markdown",
   "id": "dcfd95ce",
   "metadata": {},
   "source": [
    "## Importa bibliotecas"
   ]
  },
  {
   "cell_type": "code",
   "execution_count": 1,
   "id": "c73fe4c8",
   "metadata": {},
   "outputs": [],
   "source": [
    "import pandas as pd\n",
    "import numpy as np\n",
    "\n",
    "%matplotlib inline \n",
    "import matplotlib.pyplot as plt\n",
    "import seaborn as sns\n"
   ]
  },
  {
   "cell_type": "markdown",
   "id": "41ec224a",
   "metadata": {},
   "source": [
    "________\n",
    "## Base de cliente\n",
    "Esta é uma base de clientes gerada para efeitos didáticos, e não reflete dados reais.\n",
    "\n",
    "| Nome da Variável | Descrição |\n",
    "| :-- | :-- |\n",
    "| **id_usuario** | **Chave de identificação do cliente** |\n",
    "| DATA | Mês da assinatura |\n",
    "| TEMPO_CASA | Tempo de casa  (em meses) desde a assinatura até jan/2023|\n",
    "| IDADE ATUAL | Idade do cliente em 13/5/2021 |\n",
    "| QTD_PRODUTOS_CLIENTE | Quantidade de produtos que o cliente possui |\n",
    "| VALOR_TOTAL_MENSAL | Valor total dos produtos  |\n",
    "| FORMA_ULTIMO_PAGAMENTO | Forma do último pagamento do cliente |\n",
    "| CANAL_VENDA | Canal de venda do último produto adquirido | "
   ]
  },
  {
   "cell_type": "markdown",
   "id": "c4c36906",
   "metadata": {},
   "source": [
    "_____\n",
    "\n",
    "## Carrega dados"
   ]
  },
  {
   "cell_type": "code",
   "execution_count": null,
   "id": "d5dc88f0",
   "metadata": {},
   "outputs": [],
   "source": [
    "df_base = pd.read_csv(\"teste_data_science_3.csv\")\n",
    "df_base"
   ]
  },
  {
   "cell_type": "markdown",
   "id": "f3104efa",
   "metadata": {},
   "source": [
    "## PERGUNTA 1\n",
    "\n",
    "### O tipo de cada variável está adequado, ou é preciso alterar alguma? Verifique e, se for o caso, altere."
   ]
  },
  {
   "cell_type": "code",
   "execution_count": null,
   "id": "d590b4a6",
   "metadata": {},
   "outputs": [],
   "source": [
    "# escreva seu código abaixo\n",
    "df_base[\"tempo_casa\"] = df_base[\"tempo_casa\"].astype(int)\n",
    "\n",
    "# Verifique os tipos de dados após a alteração\n",
    "print(df_base.dtypes)"
   ]
  },
  {
   "cell_type": "markdown",
   "id": "999ff1aa",
   "metadata": {},
   "source": [
    "## PERGUNTA 2\n",
    "### Quantos são os usuários únicos e os quantos são usuários duplicados na base?\n",
    "### Qual a proporção (percentual) de usuários que estão duplicados na base?"
   ]
  },
  {
   "cell_type": "code",
   "execution_count": null,
   "id": "7decfa6c",
   "metadata": {},
   "outputs": [],
   "source": [
    "# escreva seu código abaixo\n",
    "# Use o método `duplicated()` para identificar linhas duplicadas com base em colunas-chave, como 'id_usuario'\n",
    "duplicados = df_base[df_base.duplicated(subset='id_usuario', keep='first')]\n",
    "\n",
    "# Use o método `drop_duplicates()` para manter apenas as linhas únicas\n",
    "unicos = df_base.drop_duplicates(subset='id_usuario', keep='first')\n",
    "\n",
    "# Calcule o número de usuários únicos e duplicados\n",
    "num_usuarios_unicos = len(unicos)\n",
    "num_usuarios_duplicados = len(duplicados)\n",
    "\n",
    "# Calcule a proporção de usuários duplicados em relação ao total de usuários\n",
    "proporcao_duplicados = (num_usuarios_duplicados / (num_usuarios_unicos + num_usuarios_duplicados)) * 100\n",
    "\n",
    "# Exiba os resultados\n",
    "print(\"Número de usuários únicos:\", num_usuarios_unicos)\n",
    "print(\"Número de usuários duplicados:\", num_usuarios_duplicados)\n",
    "print(\"Proporção de usuários duplicados:\", proporcao_duplicados, \"%\")"
   ]
  },
  {
   "cell_type": "markdown",
   "id": "fd27f1a6",
   "metadata": {},
   "source": [
    "## PERGUNTA 3\n",
    "### Qual a média de produtos contratados por cliente E quanto um cliente paga em média por mês?"
   ]
  },
  {
   "cell_type": "code",
   "execution_count": null,
   "id": "d664d3b3",
   "metadata": {},
   "outputs": [],
   "source": [
    "# escreva seu código abaixo\n",
    "# Calcule a média de produtos contratados por cliente\n",
    "media_produtos_contratados = df_base['qtd_produtos_cliente'].mean()\n",
    "\n",
    "# Calcule o valor médio pago por mês por um cliente\n",
    "media_valor_mensal = df_base['valor_total_mensal'].mean()\n",
    "\n",
    "# Exiba os resultados\n",
    "print(\"Média de produtos contratados por cliente:\", media_produtos_contratados)\n",
    "print(\"Valor médio pago por mês por um cliente:\", media_valor_mensal)"
   ]
  },
  {
   "cell_type": "markdown",
   "id": "71113cd7",
   "metadata": {},
   "source": [
    "## PERGUNTA 4\n",
    "\n",
    "### Qual o percentual de clientes com assintaturas de no máximo 5 anos?"
   ]
  },
  {
   "cell_type": "code",
   "execution_count": null,
   "id": "bed8a7c1",
   "metadata": {},
   "outputs": [],
   "source": [
    "# escreva seu código abaixo\n",
    "# Use a função 'value_counts()' para contar o número de clientes em cada grupo de tempo de assinatura\n",
    "contagem_tempo_casa = df_base['tempo_casa'].value_counts()\n",
    "\n",
    "# Somar o número de clientes com assinaturas de no máximo 5 anos (0 a 5 anos)\n",
    "clientes_ate_5_anos = contagem_tempo_casa.loc[0:5].sum()\n",
    "\n",
    "# Calcule o percentual de clientes com assinaturas de no máximo 5 anos\n",
    "percentual_ate_5_anos = (clientes_ate_5_anos / len(df_base)) * 100\n",
    "\n",
    "# Exiba o resultado\n",
    "print(\"Percentual de clientes com assinaturas de no máximo 5 anos:\", percentual_ate_5_anos, \"%\")"
   ]
  },
  {
   "cell_type": "markdown",
   "id": "f22c3101",
   "metadata": {},
   "source": [
    "## PERGUNTA 5\n",
    "\n",
    "Você vê algum tipo de inconsistência na base? Se sim, descreva quais."
   ]
  },
  {
   "cell_type": "markdown",
   "id": "7c8c746b",
   "metadata": {},
   "source": [
    "> Escreva sua resposta aqui\n",
    "\n",
    "Resposta: Para detectar discrepâncias em uma base de dados, é fundamental realizar uma análise minuciosa dos registros. No entanto, até o momento, com base nas informações disponíveis e na análise conduzida, não é possível apontar irregularidades específicas. Discrepâncias podem se manifestar de diversas maneiras, incluindo a ausência de dados, valores que estão fora dos limites esperados, duplicações de registros e inconsistências na formatação, entre outros possíveis problemas.\n",
    "\n",
    "1) Valores Ausentes: Verifique se há valores ausentes em colunas importantes. Valores ausentes podem ser representados como \"NaN\" em um DataFrame do pandas.\n",
    "\n",
    "2) Valores Extremos: Verifique se há valores em colunas que estão fora do intervalo esperado. Por exemplo, idade negativa ou valores extremamente altos que não fazem sentido.\n",
    "\n",
    "3) Dados Duplicados: Já discutimos como identificar e contar clientes duplicados, mas verifique se há duplicações em outras colunas ou combinações de colunas que não deveriam existir.\n",
    "\n",
    "4) Formatação Consistente: Verifique se a formatação dos dados está consistente em todas as colunas. Por exemplo, datas em formatos diferentes, texto em maiúsculas e minúsculas, etc.\n",
    "\n",
    "5) Valores Categóricos: Verifique se os valores nas colunas categóricas (como \"canal_venda\" e \"forma_ultimo_pagamento\") são consistentes e fazem sentido.\n",
    "\n",
    "6) Erros de Lógica: Verifique se há erros lógicos nos dados. Por exemplo, um cliente com \"tempo_casa\" maior do que a idade, o que não é possível.\n",
    "\n",
    "7) Outliers: Identifique outliers nos dados, que são valores que se desviam significativamente da maioria dos dados e podem afetar análises estatísticas."
   ]
  },
  {
   "cell_type": "code",
   "execution_count": null,
   "id": "f7dd8151",
   "metadata": {},
   "outputs": [],
   "source": [
    "# se achar necessário, escreva seu código abaixo\n",
    "\n",
    "# 1) Verificando valores ausentes\n",
    "valores_ausentes = df_base.isnull().sum()\n",
    "\n",
    "# 2) Verificando valores extremos\n",
    "valores_extremos = df_base.describe()\n",
    "\n",
    "# 3) Verificando duplicatas\n",
    "duplicatas = df_base[df_base.duplicated()]\n",
    "\n",
    "# 4) Verificando formatação consistente (por exemplo, para coluna \"canal_venda\")\n",
    "formatacao_inconsistente = df_base['canal_venda'].str.lower().unique()\n",
    "\n",
    "# Exibindo os resultados\n",
    "print(\"1. Valores Ausentes:\")\n",
    "print(valores_ausentes)\n",
    "print()\n",
    "print(\"\\n2. Valores Extremos:\")\n",
    "print(valores_extremos)\n",
    "print()\n",
    "print(\"\\n3. Duplicatas:\")\n",
    "print(duplicatas)\n",
    "print()\n",
    "print(\"\\n4. Formatação Inconsistente para 'canal_venda':\")\n",
    "print(formatacao_inconsistente)"
   ]
  },
  {
   "cell_type": "markdown",
   "id": "a3e6e498",
   "metadata": {},
   "source": [
    "## PERGUNTA 6\n",
    "\n",
    "Escreva UM PARÁGRAFO sobre que tipo de problema de negócio esta base poderia ajudar a resolver, com quais metodologias e tipos de aprendizagem de máquina?\n"
   ]
  },
  {
   "cell_type": "markdown",
   "id": "31fc8fb7",
   "metadata": {},
   "source": [
    "> Escreva sua resposta aqui\n",
    "\n",
    "**Resposta:** A base de dados em questão parece conter informações sobre clientes, incluindo dados demográficos, histórico de compra e informações de assinatura. Essa base de dados poderia ser valiosa para resolver problemas de negócios, como a previsão de churn de clientes, ou seja, identificar quais clientes estão mais propensos a cancelar seus serviços. \n",
    "\n",
    "Isso poderia ser abordado usando métodos de aprendizado de máquina, como classificação binária, onde o objetivo é classificar os clientes em duas categorias: aqueles que provavelmente cancelarão e aqueles que provavelmente permanecerão. \n",
    "\n",
    "Além disso, essa base de dados poderia ser usada para segmentação de clientes, permitindo que as empresas entendam melhor o comportamento e as necessidades de diferentes grupos de clientes, o que é útil para estratégias de marketing direcionadas e personalização de serviços. Para isso, técnicas de agrupamento, como K-Means, podem ser aplicadas. \n",
    "\n",
    "Em resumo, essa base de dados oferece oportunidades para abordar problemas de negócios relacionados à retenção de clientes, segmentação e personalização, utilizando técnicas de aprendizado de máquina."
   ]
  },
  {
   "cell_type": "markdown",
   "id": "4e862c3e",
   "metadata": {},
   "source": [
    "## PERGUNTA 7\n",
    "\n",
    "Utilizando os comentários abaixo como exemplo, como você criaria um prompt para uma IA generativa de chat/texto aprender a classificar o sentimento de outros novos comentários como \"positivo\" ou \"negativo\"?\n",
    "\n",
    " \n",
    "\n",
    "- Por causa do conteúdo de qualidade com a credibilidade da empresa.\n",
    "- Bom dia! Na realidade eu já pedir várias vezes para cancelar estes produtos pois não utilizo.\n",
    "- Não posso mais ler o conteúdo.\n",
    "- Diversidade e conteúdo e meus interesses.\n",
    "- Algumas coisas repetitivas e muito superficiais.\n",
    "- Atendimento sempre gentil e educados.\n",
    "- Tudo rápido e funcional.\n",
    "- Desde abril venho tentando reinstalar esse aplicativo, mas nem com ajuda de dois suportes eu consegui.\n",
    "- Adoro o produto, nele conheci pessoas novas que hoje fazem parte da minha vida.\n",
    "- O webmail é lento."
   ]
  },
  {
   "cell_type": "markdown",
   "id": "36d6e584",
   "metadata": {},
   "source": [
    "> Escreva sua resposta aqui\n",
    "\n",
    "**Resposta:** Para treinar uma IA generativa de chat/texto a classificar o sentimento de comentários como \"positivo\" ou \"negativo\", você pode criar um prompt de treinamento que inclua uma descrição do que você deseja que o modelo faça e forneça exemplos de comentários positivos e negativos para o modelo aprender a distinguir os sentimentos. Aqui está um exemplo de como você pode criar o prompt:\n",
    "\n",
    "Prompt:\n",
    "\n",
    "\"Treine um modelo de IA para classificar o sentimento de comentários como 'positivo' ou 'negativo'. Use os exemplos a seguir como guia:\n",
    "\n",
    "Comentários positivos:\n",
    "\n",
    "'Por causa do conteúdo de qualidade com a credibilidade da empresa.'\n",
    "'Atendimento sempre gentil e educados.'\n",
    "'Tudo rápido e funcional.'\n",
    "'Adoro o produto, nele conheci pessoas novas que hoje fazem parte da minha vida.'\n",
    "\n",
    "Comentários negativos:\n",
    "'Bom dia! Na realidade eu já pedir várias vezes para cancelar estes produtos pois não utilizo.'\n",
    "'Não posso mais ler o conteúdo.'\n",
    "'Algumas coisas repetitivas e muito superficiais.'\n",
    "'Desde abril venho tentando reinstalar esse aplicativo, mas nem com ajuda de dois suportes eu consegui.'\n",
    "'O webmail é lento.'\n",
    "\n",
    "Agora, treine o modelo para identificar e classificar o sentimento dos comentários em 'positivo' ou 'negativo' com base nos exemplos fornecidos."
   ]
  },
  {
   "cell_type": "markdown",
   "id": "bd101a7b",
   "metadata": {},
   "source": [
    "2) Questão banco de dados\n",
    "\n",
    "Monte uma query com MySQL que retorne para cada pais a quantidade de estados e o número total de habitantes. \n",
    "\n",
    "Considere as seguintes tabelas: tabele name: cidades estado_id 1  cidade São Paulo habitantes 12.800.000 1 santos 433.966 2 Rio de Janeiro 6.320.000 3 Las Vegas 644.644 4 Dallas 1.345.000 5 Montreal 1.780.00 segunda tabela Name: estados estado_id 1 estado Sao Paulo pais Brasil 2 Rio de janeiro Brasil 3 Nevada Estados Unidos 4 Texas Estados Unidos 5 Quebec Canada "
   ]
  },
  {
   "cell_type": "code",
   "execution_count": null,
   "id": "1cf802ab",
   "metadata": {},
   "outputs": [],
   "source": [
    "CREATE TABLE estados (\n",
    "    estado_id INT PRIMARY KEY,\n",
    "    estado VARCHAR(255),\n",
    "    pais VARCHAR(255)\n",
    ");\n",
    "\n",
    "CREATE TABLE cidades (\n",
    "    cidade_id INT PRIMARY KEY,\n",
    "    cidade VARCHAR(255),\n",
    "    estado_id INT,\n",
    "    habitantes INT\n",
    ");\n",
    "\n",
    "INSERT INTO estados (estado_id, estado, pais) VALUES\n",
    "    (1, 'Sao Paulo', 'Brasil'),\n",
    "    (2, 'Rio de Janeiro', 'Brasil'),\n",
    "    (3, 'Nevada', 'Estados Unidos'),\n",
    "    (4, 'Texas', 'Estados Unidos'),\n",
    "    (5, 'Quebec', 'Canadá');\n",
    "\n",
    "INSERT INTO cidades (cidade_id, cidade, estado_id, habitantes) VALUES\n",
    "    (1, 'São Paulo', 1, 12800000),\n",
    "    (2, 'Santos', 1, 433966),\n",
    "    (3, 'Rio de Janeiro', 2, 6320000),\n",
    "    (4, 'Las Vegas', 3, 644644),\n",
    "    (5, 'Dallas', 4, 1345000),\n",
    "    (6, 'Montreal', 5, 1780000);\n",
    "\n",
    "SELECT estados.pais AS País, \n",
    "       COUNT(*) AS Quantidade_de_Estados, \n",
    "       SUM(cidades.habitantes) AS Total_de_Habitantes\n",
    "FROM estados\n",
    "LEFT JOIN cidades ON estados.estado_id = cidades.estado_id\n",
    "GROUP BY estados.pais;"
   ]
  }
 ],
 "metadata": {
  "kernelspec": {
   "display_name": "Python 3 (ipykernel)",
   "language": "python",
   "name": "python3"
  },
  "language_info": {
   "codemirror_mode": {
    "name": "ipython",
    "version": 3
   },
   "file_extension": ".py",
   "mimetype": "text/x-python",
   "name": "python",
   "nbconvert_exporter": "python",
   "pygments_lexer": "ipython3",
   "version": "3.9.13"
  }
 },
 "nbformat": 4,
 "nbformat_minor": 5
}
